{
 "cells": [
  {
   "cell_type": "code",
   "execution_count": 1,
   "metadata": {},
   "outputs": [],
   "source": [
    "%matplotlib inline\n",
    "import sys\n",
    "sys.path.append(\"/media/bianyuan/data-TNG-1/Grab_TNGgalaxy/\")\n",
    "# sys.path.append(\"./Grab_TNGgalaxy\")\n",
    "import illustris_python as il\n",
    "import matplotlib.pyplot as plt\n",
    "import numpy as np\n",
    "from mpl_toolkits.mplot3d import Axes3D\n",
    "from mpl_toolkits import mplot3d\n",
    "%matplotlib widget\n",
    "run = 'TNG50'\n",
    "basePath = '/media/bianyuan/data-TNG-1/' + run + '-1/output'"
   ]
  },
  {
   "cell_type": "code",
   "execution_count": 94,
   "metadata": {},
   "outputs": [],
   "source": [
    "GroupFirstSub = il.groupcat.loadHalos(basePath,99,fields=['GroupFirstSub'])\n",
    "GroupNsubs = il.groupcat.loadHalos(basePath,99,fields=['GroupNsubs'])\n"
   ]
  },
  {
   "cell_type": "code",
   "execution_count": 73,
   "metadata": {},
   "outputs": [],
   "source": [
    "'''Tranfer SnapNum to Redshift'''\n",
    "\n",
    "import numpy as np\n",
    "import h5py, scipy\n",
    "from pynbody import units as units_conv\n",
    "\n",
    "Redshift_snapshot = np.loadtxt('/media/bianyuan/data-TNG-1/data/Redshift_snapshot.txt',comments='Snapshot')\n",
    "\n",
    "def redshift_snapshot(snapshots, datafile='/media/bianyuan/data-TNG-1/data/Redshift_snapshot.txt', return_opt=None):\n",
    "    snapshots0, redshifts0 = np.loadtxt(datafile, skiprows=1, unpack=True, usecols=[0, 2])\n",
    "    n_snap = np.size(snapshots)\n",
    "    if n_snap == 1: \n",
    "        redshifts = redshifts0[np.where(snapshots0 == snapshots)][0]\n",
    "    elif n_snap >1:\n",
    "        redshifts = np.zeros(n_snap)\n",
    "        for ii in range(n_snap): \n",
    "            if  snapshots[ii] is np.nan: \n",
    "                redshifts[ii] = np.nan\n",
    "            else:\n",
    "                redshifts[ii] = redshifts0[np.where(snapshots0 == snapshots[ii])][0]\n",
    "    if return_opt is None: \n",
    "        return redshifts\n",
    "#   elif return_opt == 'age':\n",
    "#       return age(redshifts)\n",
    "    elif return_opt == 'FT':\n",
    "        return FT(redshifts)\n",
    "\n",
    "def _a_dot(a, h0, om_m, om_l):                                \n",
    "    om_k = 1.0 - om_m - om_l      \n",
    "    return h0 * a * np.sqrt(om_m * (a ** -3) + om_k * (a ** -2) + om_l)  \n",
    "\n",
    "def _a_dot_recip(*args):\n",
    "    return 1. / _a_dot(*args) \n",
    "\n",
    "# The formation time of stars in unit of Gyr\n",
    "def FT(redshift, h0=0.6774, OmegaM=0.3089, OmegaL=0.6911):\n",
    "    conv = units_conv.Unit(\"0.01 s Mpc km^-1\").ratio('Gyr')\n",
    "    redshift = 1./(1. + redshift)\n",
    "    ns = np.size(redshift)\n",
    "    if ns > 1:\n",
    "        FT = np.zeros(ns)\n",
    "        for ii in range(ns): FT[ii] = scipy.integrate.quad(_a_dot_recip, 0, redshift[ii], (h0, OmegaM, OmegaL))[0] * conv\n",
    "    else:\n",
    "        FT = scipy.integrate.quad(_a_dot_recip, 0, redshift, (h0, OmegaM, OmegaL))[0] * conv\n",
    "    return FT"
   ]
  },
  {
   "cell_type": "code",
   "execution_count": 100,
   "metadata": {},
   "outputs": [
    {
     "name": "stdout",
     "output_type": "stream",
     "text": [
      "947737\n"
     ]
    }
   ],
   "source": [
    "fields = ['SubhaloMassInHalfRadType','SnapNum','SubhaloStarMetallicity','SubhaloSFRinHalfRad','SubhaloHalfmassRadType','SubhaloStarMetallicityHalfRad','GroupFirstSub','SubhaloGrNr']\n",
    "\n",
    "tree = il.sublink.loadTree(basePath,99,947737,fields=fields,onlyMPB=True)\n",
    "\n",
    "print(GroupFirstSub[tree['SubhaloGrNr'][0]])"
   ]
  },
  {
   "cell_type": "code",
   "execution_count": 80,
   "metadata": {},
   "outputs": [
    {
     "name": "stdout",
     "output_type": "stream",
     "text": [
      "(0, 218296839, 0)\n"
     ]
    }
   ],
   "source": [
    "Htree = il.lhalotree.treeOffsets(basePath,99,947737)\n",
    "print(Htree)"
   ]
  },
  {
   "cell_type": "code",
   "execution_count": 91,
   "metadata": {},
   "outputs": [],
   "source": [
    "# basePath = '/media/bianyuan/data-TNG-1/' + run + '-1/postprocessing'\n",
    "fields = ['FirstHaloInFOFGroup','NextHaloInFOFGroup','SubhaloNumber','FirstProgenitor']\n",
    "\n",
    "Halotree = il.lhalotree.loadTree(basePath,99,63864,fields=fields,onlyMPB=True)"
   ]
  },
  {
   "cell_type": "code",
   "execution_count": 92,
   "metadata": {},
   "outputs": [
    {
     "name": "stdout",
     "output_type": "stream",
     "text": [
      "[64120718 64120717 64120716 64120715 64120714 64120713 64120712 64120711\n",
      " 64120710 64120709 64120708 64120707 64120706 64120705 64120704 64120703\n",
      " 64120702 64120701 64120700 64120997 64120996 64120995 64120994 64122444\n",
      " 64122443 64122442 64122441 64122440 64122439 64122438 64127593 64127592\n",
      " 64127591 64129491 64129490 64129489 64129488 64129487 64129486 64129485\n",
      " 64129484 64129483 64129482 64129481 64129480 64129479 64129478 64129477\n",
      " 64129476 64129475 64129474 64129473 64129472 64129471 64129470 64129469\n",
      " 64129468 64129467 64129466 64129465 64129464 64129463 64129462 64129461\n",
      " 64129460 64129459 64412984 64412983 64412982 64412981 64525360 64525359\n",
      " 64525358 64525393 64525392 65344265 65344266 65344267 65344268 65344269\n",
      " 65344270 82406182 65344272 65344273 65344274 65344275 65344276 65344277\n",
      " 65344278 65344279 65344280 65344281 65344282 65344283 65344284 65344285\n",
      " 65344286 65344287 65344288 65344289]\n"
     ]
    }
   ],
   "source": [
    "print(Halotree['FirstHaloInFOFGroup'])"
   ]
  },
  {
   "cell_type": "code",
   "execution_count": 46,
   "metadata": {},
   "outputs": [
    {
     "ename": "MemoryError",
     "evalue": "Unable to allocate 225. GiB for an array with shape (10077696000, 3) and data type float64",
     "output_type": "error",
     "traceback": [
      "\u001b[0;31m---------------------------------------------------------------------------\u001b[0m",
      "\u001b[0;31mMemoryError\u001b[0m                               Traceback (most recent call last)",
      "\u001b[1;32m/media/bianyuan/data-TNG-1/code/HaloTree.ipynb 单元格 6\u001b[0m in \u001b[0;36m<cell line: 2>\u001b[0;34m()\u001b[0m\n\u001b[1;32m      <a href='vscode-notebook-cell://ssh-remote%2B10.30.163.218/media/bianyuan/data-TNG-1/code/HaloTree.ipynb#W5sdnNjb2RlLXJlbW90ZQ%3D%3D?line=0'>1</a>\u001b[0m \u001b[39mimport\u001b[39;00m \u001b[39mmatplotlib\u001b[39;00m \u001b[39mas\u001b[39;00m \u001b[39mmpl\u001b[39;00m\n\u001b[0;32m----> <a href='vscode-notebook-cell://ssh-remote%2B10.30.163.218/media/bianyuan/data-TNG-1/code/HaloTree.ipynb#W5sdnNjb2RlLXJlbW90ZQ%3D%3D?line=1'>2</a>\u001b[0m dm_pos \u001b[39m=\u001b[39m il\u001b[39m.\u001b[39;49msnapshot\u001b[39m.\u001b[39;49mloadSubset(basePath,\u001b[39m99\u001b[39;49m,\u001b[39m'\u001b[39;49m\u001b[39mdm\u001b[39;49m\u001b[39m'\u001b[39;49m,[\u001b[39m'\u001b[39;49m\u001b[39mCoordinates\u001b[39;49m\u001b[39m'\u001b[39;49m]);\n\u001b[1;32m      <a href='vscode-notebook-cell://ssh-remote%2B10.30.163.218/media/bianyuan/data-TNG-1/code/HaloTree.ipynb#W5sdnNjb2RlLXJlbW90ZQ%3D%3D?line=2'>3</a>\u001b[0m plt\u001b[39m.\u001b[39mhist2d(dm_pos[:,\u001b[39m0\u001b[39m], dm_pos[:,\u001b[39m1\u001b[39m], norm\u001b[39m=\u001b[39mmpl\u001b[39m.\u001b[39mcolors\u001b[39m.\u001b[39mLogNorm(), bins\u001b[39m=\u001b[39m\u001b[39m64\u001b[39m)\n",
      "File \u001b[0;32m/media/bianyuan/data-TNG-1/Grab_TNGgalaxy/illustris_python/snapshot.py:101\u001b[0m, in \u001b[0;36mloadSubset\u001b[0;34m(basePath, snapNum, partType, fields, subset, mdi, sq, float32)\u001b[0m\n\u001b[1;32m     99\u001b[0m         dtype \u001b[39m=\u001b[39m f[gName][field]\u001b[39m.\u001b[39mdtype\n\u001b[1;32m    100\u001b[0m         \u001b[39mif\u001b[39;00m dtype \u001b[39m==\u001b[39m np\u001b[39m.\u001b[39mfloat64 \u001b[39mand\u001b[39;00m float32: dtype \u001b[39m=\u001b[39m np\u001b[39m.\u001b[39mfloat32\n\u001b[0;32m--> 101\u001b[0m         result[field] \u001b[39m=\u001b[39m np\u001b[39m.\u001b[39;49mzeros(shape, dtype\u001b[39m=\u001b[39;49mdtype)\n\u001b[1;32m    103\u001b[0m \u001b[39m# loop over chunks\u001b[39;00m\n\u001b[1;32m    104\u001b[0m wOffset \u001b[39m=\u001b[39m \u001b[39m0\u001b[39m\n",
      "\u001b[0;31mMemoryError\u001b[0m: Unable to allocate 225. GiB for an array with shape (10077696000, 3) and data type float64"
     ]
    }
   ],
   "source": [
    "import matplotlib as mpl\n",
    "dm_pos = il.snapshot.loadSubset(basePath,99,'dm',['Coordinates']);\n",
    "plt.hist2d(dm_pos[:,0], dm_pos[:,1], norm=mpl.colors.LogNorm(), bins=64);"
   ]
  }
 ],
 "metadata": {
  "kernelspec": {
   "display_name": "py310",
   "language": "python",
   "name": "python3"
  },
  "language_info": {
   "codemirror_mode": {
    "name": "ipython",
    "version": 3
   },
   "file_extension": ".py",
   "mimetype": "text/x-python",
   "name": "python",
   "nbconvert_exporter": "python",
   "pygments_lexer": "ipython3",
   "version": "3.10.4"
  },
  "orig_nbformat": 4,
  "vscode": {
   "interpreter": {
    "hash": "74105a7bbf251fe9ef814121df16e7cc5444573fedfa863059d64207604a827d"
   }
  }
 },
 "nbformat": 4,
 "nbformat_minor": 2
}
