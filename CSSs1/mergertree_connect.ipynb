{
 "cells": [
  {
   "cell_type": "code",
   "execution_count": 1,
   "metadata": {},
   "outputs": [
    {
     "name": "stderr",
     "output_type": "stream",
     "text": [
      "/home/bianyuan/.conda/envs/py310/lib/python3.10/site-packages/astroML/linear_model/linear_regression_errors.py:10: UserWarning: LinearRegressionwithErrors requires PyMC3 to be installed\n",
      "  warnings.warn('LinearRegressionwithErrors requires PyMC3 to be installed')\n"
     ]
    }
   ],
   "source": [
    "%matplotlib inline\n",
    "import sys\n",
    "sys.path.append(\"/home/bianyuan/workspace/Grab_TNGgalaxy/\")\n",
    "# sys.path.append(\"./Grab_TNGgalaxy\")\n",
    "import illustris_python as il\n",
    "import matplotlib.pyplot as plt\n",
    "import numpy as np\n",
    "from mpl_toolkits.mplot3d import Axes3D\n",
    "from mpl_toolkits import mplot3d\n",
    "import h5py\n",
    "import seaborn as sns\n",
    "from tqdm import tqdm\n",
    "%matplotlib widget\n",
    "run = 'TNG50'\n",
    "basePath = '/media/bianyuan/data-TNG-1/' + run + '-1/output'\n",
    "from astroML.plotting import setup_text_plots\n",
    "#Lets text in plots use latex\n",
    "setup_text_plots(usetex=True)"
   ]
  },
  {
   "cell_type": "code",
   "execution_count": 2,
   "metadata": {},
   "outputs": [
    {
     "name": "stderr",
     "output_type": "stream",
     "text": [
      "Snap Progress:   0%|          | 0/39 [00:00<?, ?it/s]\n",
      "\u001b[A"
     ]
    },
    {
     "name": "stdout",
     "output_type": "stream",
     "text": [
      "Found 88684 matching stars in galaxy ID 104 for CSSs3 ID 100 in snap 98.\n"
     ]
    }
   ],
   "source": [
    "import h5py\n",
    "import csv\n",
    "from tqdm import tqdm\n",
    "\n",
    "# basePath = '/media/bianyuan/T7/TNG'\n",
    "\n",
    "def save_checkpoint(snap, ids):\n",
    "    with open(\"checkpoint.txt\", \"w\") as f:\n",
    "        f.write(f\"{snap}\\n{ids}\")\n",
    "\n",
    "def load_checkpoint():\n",
    "    try:\n",
    "        with open(\"checkpoint.txt\", \"r\") as f:\n",
    "            snap = int(f.readline().strip())\n",
    "            ids = int(f.readline().strip())\n",
    "            return snap, ids\n",
    "    except:\n",
    "        return 10, CSSs3['ID'][0]  # 默认值，从头开始\n",
    "\n",
    "CSSs3 = sns.load_dataset('CSSs3', data_home='/home/bianyuan/workspace/data', cache=True)\n",
    "\n",
    "start_snap, start_ids = load_checkpoint()\n",
    "\n",
    "desktop_path = \"/home/bianyuan/workspace/data/\"   # 新创建的txt文件的存放路径 \n",
    "full_path = desktop_path + 'output.csv'          #也可以创建一个.doc的word文档\n",
    "\n",
    "specified_snaps = [98, 97, 96, 95, 94, 93, 92, 91, 90, 89, 88, 87, 86, 85, 84, 83, 82, 81, 80, 79, 78, 77, 76, 75, 73, 72, 71, 70, 69, 68, 66, 64, 60, 59, 57, 54, 51, 50, 45]\n",
    "\n",
    "with tqdm(total=len(specified_snaps), desc=\"Snap Progress\") as pbar_snap:\n",
    "    for snap in specified_snaps: \n",
    "        with open('/home/bianyuan/workspace/data/output.csv','w') as file:\n",
    "            writer = csv.writer(file)\n",
    "            writer.writerow(['ID', 'Snap', 'Galaxy_ID', 'Number_of_Stars'])\n",
    "            file = open(full_path, 'w')                  # w 的含义为可进行读写                           \n",
    "            file.close()\n",
    "\n",
    "            # 为了显示整体进度，我们使用了一个外部的tqdm进度条\n",
    "            with tqdm(total=len(CSSs3['ID']), desc=\"Overall Progress\") as pbar_overall:\n",
    "                for snap in tqdm(specified_snaps, desc=\"Snap Progress\"): \n",
    "                    with h5py.File(f'/media/bianyuan/T7/TNG/starID_1e7_gals_snap_{snap}.hdf5', 'r') as f:\n",
    "                        started = False if start_ids != CSSs3['ID'][0] else True\n",
    "                        for ids, last_snap, last_snap_id in zip(CSSs3['ID'], CSSs3['last_snap'], CSSs3['last_snap_ID']):\n",
    "                            if not started:\n",
    "                                if ids == start_ids:\n",
    "                                    started = True\n",
    "                                else:\n",
    "                                    pbar_overall.update(1)\n",
    "                                    continue\n",
    "\n",
    "                            if last_snap < 45 or snap != last_snap-1:\n",
    "                                pbar_overall.update(1)\n",
    "                                continue\n",
    "\n",
    "                            star_ids = il.snapshot.loadSubhalo(basePath, int(last_snap), int(last_snap_id), 'star', fields='ParticleIDs')\n",
    "\n",
    "                            for galaxy_id, group in f.items():\n",
    "                                galaxy_star_ids = group['StarID'][:]\n",
    "                                common_stars = set(star_ids).intersection(galaxy_star_ids)\n",
    "                                if common_stars:\n",
    "                                    with open('/home/bianyuan/workspace/data/output.csv','a') as file:\n",
    "                                        row = [ids, snap, galaxy_id, len(common_stars)]\n",
    "                                        out = open('/home/bianyuan/workspace/data/output.csv','a')\n",
    "                                        csv_writer = csv.writer(out, dialect = \"excel\")\n",
    "                                        csv_writer.writerow(row)\n",
    "                                        file.close()\n",
    "                                    print(f\"Found {len(common_stars)} matching stars in galaxy ID {galaxy_id} for CSSs3 ID {ids} in snap {snap}.\")\n",
    "\n",
    "                            pbar_overall.update(1)\n",
    "\n",
    "                            # 保存检查点\n",
    "                            save_checkpoint(snap, ids)"
   ]
  },
  {
   "cell_type": "code",
   "execution_count": 2,
   "metadata": {},
   "outputs": [
    {
     "name": "stderr",
     "output_type": "stream",
     "text": [
      "Snap Progress:   0%|          | 0/39 [00:00<?, ?it/s]"
     ]
    },
    {
     "name": "stdout",
     "output_type": "stream",
     "text": [
      "Found 88684 matching stars in galaxy ID 104 for CSSs3 ID 100 in snap 98.\n"
     ]
    }
   ],
   "source": [
    "import seaborn as sns\n",
    "import h5py\n",
    "import csv\n",
    "from tqdm import tqdm\n",
    "\n",
    "# basePath = '/media/bianyuan/T7/TNG'\n",
    "\n",
    "def save_checkpoint(snap, ids):\n",
    "    with open(\"checkpoint.txt\", \"w\") as f:\n",
    "        f.write(f\"{snap}\\n{ids}\")\n",
    "\n",
    "def load_checkpoint():\n",
    "    try:\n",
    "        with open(\"checkpoint.txt\", \"r\") as f:\n",
    "            snap = int(f.readline().strip())\n",
    "            ids = int(f.readline().strip())\n",
    "            return snap, ids\n",
    "    except:\n",
    "        return 10, CSSs3['ID'][0]  # 默认值，从头开始\n",
    "\n",
    "CSSs3 = sns.load_dataset('CSSs3', data_home='/home/bianyuan/workspace/data', cache=True)\n",
    "\n",
    "start_snap, start_ids = load_checkpoint()\n",
    "\n",
    "desktop_path = \"/home/bianyuan/workspace/data/\"   # 新创建的txt文件的存放路径 \n",
    "full_path = desktop_path + 'output.csv'          #也可以创建一个.doc的word文档\n",
    "\n",
    "specified_snaps = [98, 97, 96, 95, 94, 93, 92, 91, 90, 89, 88, 87, 86, 85, 84, 83, 82, 81, 80, 79, 78, 77, 76, 75, 73, 72, 71, 70, 69, 68, 66, 64, 60, 59, 57, 54, 51, 50, 45]\n",
    "\n",
    "with open('/home/bianyuan/workspace/data/CSSs4.csv','w') as file:\n",
    "    writer = csv.writer(file)\n",
    "    writer.writerow(['ID', 'Snap', 'Galaxy_ID', 'Number_of_Stars'])\n",
    "    file = open(full_path, 'w')                  # w 的含义为可进行读写                           \n",
    "    file.close() \n",
    "\n",
    "    # 外循环的进度条\n",
    "    with tqdm(total=len(specified_snaps), desc=\"Snap Progress\") as pbar_snap:\n",
    "        for snap in specified_snaps: \n",
    "            with h5py.File(f'/media/bianyuan/T7/TNG/starID_1e7_gals_snap_{snap}.hdf5', 'r') as f:\n",
    "                \n",
    "                # 内循环的进度条\n",
    "                with tqdm(total=len(CSSs3['ID']), desc=\"Overall Progress\") as pbar_overall:\n",
    "                    started = False if start_ids != CSSs3['ID'][0] else True\n",
    "                    for ids, last_snap, last_snap_id in zip(CSSs3['ID'], CSSs3['last_snap'], CSSs3['last_snap_ID']):\n",
    "                        if not started:\n",
    "                            if ids == start_ids:\n",
    "                                started = True\n",
    "                            else:\n",
    "                                pbar_overall.update(1)\n",
    "                                continue\n",
    "\n",
    "                        if last_snap < 45 or snap != last_snap-1:\n",
    "                            pbar_overall.update(1)\n",
    "                            continue\n",
    "\n",
    "                        star_ids = il.snapshot.loadSubhalo(basePath, int(last_snap), int(last_snap_id), 'star', fields='ParticleIDs')\n",
    "\n",
    "                        for galaxy_id, group in f.items():\n",
    "                            galaxy_star_ids = group['StarID'][:]\n",
    "                            common_stars = set(star_ids).intersection(galaxy_star_ids)\n",
    "                            if common_stars:\n",
    "                                with open(full_path, 'a') as file:\n",
    "                                    row = [ids, snap, galaxy_id, len(common_stars)]\n",
    "                                    csv_writer = csv.writer(file, dialect=\"excel\")\n",
    "                                    csv_writer.writerow(row)\n",
    "                                print(f\"Found {len(common_stars)} matching stars in galaxy ID {galaxy_id} for CSSs3 ID {ids} in snap {snap}.\")\n",
    "\n",
    "                        pbar_overall.update(1)\n",
    "\n",
    "                        # 保存检查点\n",
    "                        save_checkpoint(snap, ids)\n",
    "                \n",
    "                pbar_snap.update(1)"
   ]
  }
 ],
 "metadata": {
  "kernelspec": {
   "display_name": "py310",
   "language": "python",
   "name": "python3"
  },
  "language_info": {
   "codemirror_mode": {
    "name": "ipython",
    "version": 3
   },
   "file_extension": ".py",
   "mimetype": "text/x-python",
   "name": "python",
   "nbconvert_exporter": "python",
   "pygments_lexer": "ipython3",
   "version": "3.10.4"
  }
 },
 "nbformat": 4,
 "nbformat_minor": 2
}
